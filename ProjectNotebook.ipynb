{
 "cells": [
  {
   "cell_type": "code",
   "execution_count": 49,
   "metadata": {},
   "outputs": [],
   "source": [
    "# Import modules\n",
    "import pandas as pd\n",
    "import numpy as np\n",
    "import matplotlib.pyplot as plt\n",
    "import seaborn as sns\n",
    "from sklearn import tree\n",
    "from sklearn.metrics import accuracy_score\n",
    "from sklearn.model_selection import train_test_split\n",
    "from sklearn.ensemble import RandomForestRegressor\n",
    "import graphviz\n",
    "from sklearn.metrics import mean_squared_error, r2_score\n",
    "from sklearn.naive_bayes import MultinomialNB\n",
    "from sklearn.linear_model import LogisticRegression\n",
    "from sklearn import metrics\n",
    "# Figures inline and set visualization style\n",
    "%matplotlib inline\n",
    "sns.set()"
   ]
  },
  {
   "cell_type": "code",
   "execution_count": 10,
   "metadata": {},
   "outputs": [],
   "source": [
    "url = 'https://raw.githubusercontent.com/malle72/finalproject/master/la_loans.csv'"
   ]
  },
  {
   "cell_type": "code",
   "execution_count": null,
   "metadata": {},
   "outputs": [],
   "source": [
    "loans_df = pd.read_csv(url)"
   ]
  },
  {
   "cell_type": "code",
   "execution_count": 12,
   "metadata": {},
   "outputs": [
    {
     "data": {
      "text/html": [
       "<div>\n",
       "<style scoped>\n",
       "    .dataframe tbody tr th:only-of-type {\n",
       "        vertical-align: middle;\n",
       "    }\n",
       "\n",
       "    .dataframe tbody tr th {\n",
       "        vertical-align: top;\n",
       "    }\n",
       "\n",
       "    .dataframe thead th {\n",
       "        text-align: right;\n",
       "    }\n",
       "</style>\n",
       "<table border=\"1\" class=\"dataframe\">\n",
       "  <thead>\n",
       "    <tr style=\"text-align: right;\">\n",
       "      <th></th>\n",
       "      <th>app_accepted</th>\n",
       "      <th>respondent_id</th>\n",
       "      <th>agency_name</th>\n",
       "      <th>agency_abbr</th>\n",
       "      <th>loan_type_name</th>\n",
       "      <th>property_type_name</th>\n",
       "      <th>loan_purpose_name</th>\n",
       "      <th>owner_occupancy_name</th>\n",
       "      <th>loan_amount_000s</th>\n",
       "      <th>preapproval_name</th>\n",
       "      <th>...</th>\n",
       "      <th>applicant_income_000s</th>\n",
       "      <th>purchaser_type_name</th>\n",
       "      <th>hoepa_status_name</th>\n",
       "      <th>lien_status_name</th>\n",
       "      <th>population</th>\n",
       "      <th>minority_population</th>\n",
       "      <th>hud_median_family_income</th>\n",
       "      <th>tract_to_msamd_income</th>\n",
       "      <th>number_of_owner_occupied_units</th>\n",
       "      <th>number_of_1_to_4_family_units</th>\n",
       "    </tr>\n",
       "  </thead>\n",
       "  <tbody>\n",
       "    <tr>\n",
       "      <th>0</th>\n",
       "      <td>1</td>\n",
       "      <td>463735</td>\n",
       "      <td>Consumer Financial Protection Bureau</td>\n",
       "      <td>CFPB</td>\n",
       "      <td>Conventional</td>\n",
       "      <td>One-to-four family dwelling (other than manufa...</td>\n",
       "      <td>Home purchase</td>\n",
       "      <td>Owner-occupied as a principal dwelling</td>\n",
       "      <td>424</td>\n",
       "      <td>Not applicable</td>\n",
       "      <td>...</td>\n",
       "      <td>212.0</td>\n",
       "      <td>Loan was not originated or was not sold in cal...</td>\n",
       "      <td>Not a HOEPA loan</td>\n",
       "      <td>Secured by a first lien</td>\n",
       "      <td>8060.0</td>\n",
       "      <td>6.440000</td>\n",
       "      <td>63300.0</td>\n",
       "      <td>179.789993</td>\n",
       "      <td>2432.0</td>\n",
       "      <td>3051.0</td>\n",
       "    </tr>\n",
       "    <tr>\n",
       "      <th>1</th>\n",
       "      <td>1</td>\n",
       "      <td>13951</td>\n",
       "      <td>Federal Deposit Insurance Corporation</td>\n",
       "      <td>FDIC</td>\n",
       "      <td>Conventional</td>\n",
       "      <td>One-to-four family dwelling (other than manufa...</td>\n",
       "      <td>Home purchase</td>\n",
       "      <td>Not owner-occupied as a principal dwelling</td>\n",
       "      <td>58</td>\n",
       "      <td>Not applicable</td>\n",
       "      <td>...</td>\n",
       "      <td>125.0</td>\n",
       "      <td>Loan was not originated or was not sold in cal...</td>\n",
       "      <td>Not a HOEPA loan</td>\n",
       "      <td>Secured by a first lien</td>\n",
       "      <td>3412.0</td>\n",
       "      <td>26.290001</td>\n",
       "      <td>53700.0</td>\n",
       "      <td>88.519997</td>\n",
       "      <td>541.0</td>\n",
       "      <td>1856.0</td>\n",
       "    </tr>\n",
       "    <tr>\n",
       "      <th>2</th>\n",
       "      <td>1</td>\n",
       "      <td>75-2921540</td>\n",
       "      <td>Department of Housing and Urban Development</td>\n",
       "      <td>HUD</td>\n",
       "      <td>Conventional</td>\n",
       "      <td>One-to-four family dwelling (other than manufa...</td>\n",
       "      <td>Refinancing</td>\n",
       "      <td>Owner-occupied as a principal dwelling</td>\n",
       "      <td>87</td>\n",
       "      <td>Not applicable</td>\n",
       "      <td>...</td>\n",
       "      <td>NaN</td>\n",
       "      <td>Freddie Mac (FHLMC)</td>\n",
       "      <td>Not a HOEPA loan</td>\n",
       "      <td>Secured by a first lien</td>\n",
       "      <td>11628.0</td>\n",
       "      <td>16.139999</td>\n",
       "      <td>68100.0</td>\n",
       "      <td>169.660004</td>\n",
       "      <td>3549.0</td>\n",
       "      <td>4049.0</td>\n",
       "    </tr>\n",
       "    <tr>\n",
       "      <th>3</th>\n",
       "      <td>0</td>\n",
       "      <td>233031</td>\n",
       "      <td>Consumer Financial Protection Bureau</td>\n",
       "      <td>CFPB</td>\n",
       "      <td>Conventional</td>\n",
       "      <td>One-to-four family dwelling (other than manufa...</td>\n",
       "      <td>Refinancing</td>\n",
       "      <td>Owner-occupied as a principal dwelling</td>\n",
       "      <td>80</td>\n",
       "      <td>Not applicable</td>\n",
       "      <td>...</td>\n",
       "      <td>160.0</td>\n",
       "      <td>Loan was not originated or was not sold in cal...</td>\n",
       "      <td>Not a HOEPA loan</td>\n",
       "      <td>Secured by a first lien</td>\n",
       "      <td>3412.0</td>\n",
       "      <td>26.290001</td>\n",
       "      <td>53700.0</td>\n",
       "      <td>88.519997</td>\n",
       "      <td>541.0</td>\n",
       "      <td>1856.0</td>\n",
       "    </tr>\n",
       "    <tr>\n",
       "      <th>4</th>\n",
       "      <td>0</td>\n",
       "      <td>233031</td>\n",
       "      <td>Consumer Financial Protection Bureau</td>\n",
       "      <td>CFPB</td>\n",
       "      <td>Conventional</td>\n",
       "      <td>One-to-four family dwelling (other than manufa...</td>\n",
       "      <td>Refinancing</td>\n",
       "      <td>Not owner-occupied as a principal dwelling</td>\n",
       "      <td>64</td>\n",
       "      <td>Not applicable</td>\n",
       "      <td>...</td>\n",
       "      <td>73.0</td>\n",
       "      <td>Loan was not originated or was not sold in cal...</td>\n",
       "      <td>Not a HOEPA loan</td>\n",
       "      <td>Secured by a subordinate lien</td>\n",
       "      <td>2667.0</td>\n",
       "      <td>66.970001</td>\n",
       "      <td>53700.0</td>\n",
       "      <td>65.779999</td>\n",
       "      <td>209.0</td>\n",
       "      <td>1081.0</td>\n",
       "    </tr>\n",
       "  </tbody>\n",
       "</table>\n",
       "<p>5 rows × 29 columns</p>\n",
       "</div>"
      ],
      "text/plain": [
       "   app_accepted respondent_id                                  agency_name  \\\n",
       "0             1        463735         Consumer Financial Protection Bureau   \n",
       "1             1         13951        Federal Deposit Insurance Corporation   \n",
       "2             1    75-2921540  Department of Housing and Urban Development   \n",
       "3             0        233031         Consumer Financial Protection Bureau   \n",
       "4             0        233031         Consumer Financial Protection Bureau   \n",
       "\n",
       "  agency_abbr loan_type_name  \\\n",
       "0        CFPB   Conventional   \n",
       "1        FDIC   Conventional   \n",
       "2         HUD   Conventional   \n",
       "3        CFPB   Conventional   \n",
       "4        CFPB   Conventional   \n",
       "\n",
       "                                  property_type_name loan_purpose_name  \\\n",
       "0  One-to-four family dwelling (other than manufa...     Home purchase   \n",
       "1  One-to-four family dwelling (other than manufa...     Home purchase   \n",
       "2  One-to-four family dwelling (other than manufa...       Refinancing   \n",
       "3  One-to-four family dwelling (other than manufa...       Refinancing   \n",
       "4  One-to-four family dwelling (other than manufa...       Refinancing   \n",
       "\n",
       "                         owner_occupancy_name  loan_amount_000s  \\\n",
       "0      Owner-occupied as a principal dwelling               424   \n",
       "1  Not owner-occupied as a principal dwelling                58   \n",
       "2      Owner-occupied as a principal dwelling                87   \n",
       "3      Owner-occupied as a principal dwelling                80   \n",
       "4  Not owner-occupied as a principal dwelling                64   \n",
       "\n",
       "  preapproval_name  ... applicant_income_000s  \\\n",
       "0   Not applicable  ...                 212.0   \n",
       "1   Not applicable  ...                 125.0   \n",
       "2   Not applicable  ...                   NaN   \n",
       "3   Not applicable  ...                 160.0   \n",
       "4   Not applicable  ...                  73.0   \n",
       "\n",
       "                                 purchaser_type_name hoepa_status_name  \\\n",
       "0  Loan was not originated or was not sold in cal...  Not a HOEPA loan   \n",
       "1  Loan was not originated or was not sold in cal...  Not a HOEPA loan   \n",
       "2                                Freddie Mac (FHLMC)  Not a HOEPA loan   \n",
       "3  Loan was not originated or was not sold in cal...  Not a HOEPA loan   \n",
       "4  Loan was not originated or was not sold in cal...  Not a HOEPA loan   \n",
       "\n",
       "                lien_status_name population minority_population  \\\n",
       "0        Secured by a first lien     8060.0            6.440000   \n",
       "1        Secured by a first lien     3412.0           26.290001   \n",
       "2        Secured by a first lien    11628.0           16.139999   \n",
       "3        Secured by a first lien     3412.0           26.290001   \n",
       "4  Secured by a subordinate lien     2667.0           66.970001   \n",
       "\n",
       "  hud_median_family_income  tract_to_msamd_income  \\\n",
       "0                  63300.0             179.789993   \n",
       "1                  53700.0              88.519997   \n",
       "2                  68100.0             169.660004   \n",
       "3                  53700.0              88.519997   \n",
       "4                  53700.0              65.779999   \n",
       "\n",
       "  number_of_owner_occupied_units  number_of_1_to_4_family_units  \n",
       "0                         2432.0                         3051.0  \n",
       "1                          541.0                         1856.0  \n",
       "2                         3549.0                         4049.0  \n",
       "3                          541.0                         1856.0  \n",
       "4                          209.0                         1081.0  \n",
       "\n",
       "[5 rows x 29 columns]"
      ]
     },
     "execution_count": 12,
     "metadata": {},
     "output_type": "execute_result"
    }
   ],
   "source": [
    "loans_df.head()"
   ]
  },
  {
   "cell_type": "code",
   "execution_count": 13,
   "metadata": {},
   "outputs": [
    {
     "name": "stdout",
     "output_type": "stream",
     "text": [
      "<class 'pandas.core.frame.DataFrame'>\n",
      "RangeIndex: 148996 entries, 0 to 148995\n",
      "Data columns (total 29 columns):\n",
      " #   Column                          Non-Null Count   Dtype  \n",
      "---  ------                          --------------   -----  \n",
      " 0   app_accepted                    148996 non-null  int64  \n",
      " 1   respondent_id                   148996 non-null  object \n",
      " 2   agency_name                     148996 non-null  object \n",
      " 3   agency_abbr                     148996 non-null  object \n",
      " 4   loan_type_name                  148996 non-null  object \n",
      " 5   property_type_name              148996 non-null  object \n",
      " 6   loan_purpose_name               148996 non-null  object \n",
      " 7   owner_occupancy_name            148996 non-null  object \n",
      " 8   loan_amount_000s                148996 non-null  int64  \n",
      " 9   preapproval_name                148996 non-null  object \n",
      " 10  applicant_ethnicity_name        148996 non-null  object \n",
      " 11  co_applicant_ethnicity_name     148996 non-null  object \n",
      " 12  applicant_race_name_1           148996 non-null  object \n",
      " 13  applicant_race_name_2           714 non-null     object \n",
      " 14  co_applicant_race_name_1        148996 non-null  object \n",
      " 15  co_applicant_race_name_2        225 non-null     object \n",
      " 16  applicant_sex_name              148996 non-null  object \n",
      " 17  applicant_sex                   148996 non-null  int64  \n",
      " 18  co_applicant_sex_name           148996 non-null  object \n",
      " 19  applicant_income_000s           135141 non-null  float64\n",
      " 20  purchaser_type_name             148996 non-null  object \n",
      " 21  hoepa_status_name               148996 non-null  object \n",
      " 22  lien_status_name                148996 non-null  object \n",
      " 23  population                      145715 non-null  float64\n",
      " 24  minority_population             145715 non-null  float64\n",
      " 25  hud_median_family_income        145715 non-null  float64\n",
      " 26  tract_to_msamd_income           145715 non-null  float64\n",
      " 27  number_of_owner_occupied_units  145715 non-null  float64\n",
      " 28  number_of_1_to_4_family_units   145715 non-null  float64\n",
      "dtypes: float64(7), int64(3), object(19)\n",
      "memory usage: 33.0+ MB\n"
     ]
    }
   ],
   "source": [
    "loans_df.info()"
   ]
  },
  {
   "cell_type": "code",
   "execution_count": 14,
   "metadata": {
    "scrolled": true
   },
   "outputs": [
    {
     "data": {
      "text/html": [
       "<div>\n",
       "<style scoped>\n",
       "    .dataframe tbody tr th:only-of-type {\n",
       "        vertical-align: middle;\n",
       "    }\n",
       "\n",
       "    .dataframe tbody tr th {\n",
       "        vertical-align: top;\n",
       "    }\n",
       "\n",
       "    .dataframe thead th {\n",
       "        text-align: right;\n",
       "    }\n",
       "</style>\n",
       "<table border=\"1\" class=\"dataframe\">\n",
       "  <thead>\n",
       "    <tr style=\"text-align: right;\">\n",
       "      <th></th>\n",
       "      <th>app_accepted</th>\n",
       "      <th>loan_amount_000s</th>\n",
       "      <th>applicant_sex</th>\n",
       "      <th>applicant_income_000s</th>\n",
       "      <th>population</th>\n",
       "      <th>minority_population</th>\n",
       "      <th>hud_median_family_income</th>\n",
       "      <th>tract_to_msamd_income</th>\n",
       "      <th>number_of_owner_occupied_units</th>\n",
       "      <th>number_of_1_to_4_family_units</th>\n",
       "    </tr>\n",
       "  </thead>\n",
       "  <tbody>\n",
       "    <tr>\n",
       "      <th>count</th>\n",
       "      <td>148996.000000</td>\n",
       "      <td>148996.000000</td>\n",
       "      <td>148996.000000</td>\n",
       "      <td>135141.000000</td>\n",
       "      <td>145715.000000</td>\n",
       "      <td>145715.000000</td>\n",
       "      <td>145715.000000</td>\n",
       "      <td>145715.000000</td>\n",
       "      <td>145715.000000</td>\n",
       "      <td>145715.000000</td>\n",
       "    </tr>\n",
       "    <tr>\n",
       "      <th>mean</th>\n",
       "      <td>0.559230</td>\n",
       "      <td>164.155742</td>\n",
       "      <td>1.523229</td>\n",
       "      <td>90.640857</td>\n",
       "      <td>5790.106701</td>\n",
       "      <td>33.987342</td>\n",
       "      <td>59589.701815</td>\n",
       "      <td>112.088414</td>\n",
       "      <td>1562.809525</td>\n",
       "      <td>2202.367615</td>\n",
       "    </tr>\n",
       "    <tr>\n",
       "      <th>std</th>\n",
       "      <td>0.496481</td>\n",
       "      <td>374.476442</td>\n",
       "      <td>0.765829</td>\n",
       "      <td>502.567417</td>\n",
       "      <td>2860.910917</td>\n",
       "      <td>24.677483</td>\n",
       "      <td>6779.225197</td>\n",
       "      <td>39.329715</td>\n",
       "      <td>897.877141</td>\n",
       "      <td>1010.090677</td>\n",
       "    </tr>\n",
       "    <tr>\n",
       "      <th>min</th>\n",
       "      <td>0.000000</td>\n",
       "      <td>1.000000</td>\n",
       "      <td>1.000000</td>\n",
       "      <td>1.000000</td>\n",
       "      <td>0.000000</td>\n",
       "      <td>0.000000</td>\n",
       "      <td>47200.000000</td>\n",
       "      <td>0.000000</td>\n",
       "      <td>0.000000</td>\n",
       "      <td>0.000000</td>\n",
       "    </tr>\n",
       "    <tr>\n",
       "      <th>25%</th>\n",
       "      <td>0.000000</td>\n",
       "      <td>75.000000</td>\n",
       "      <td>1.000000</td>\n",
       "      <td>43.000000</td>\n",
       "      <td>3689.000000</td>\n",
       "      <td>15.470000</td>\n",
       "      <td>53700.000000</td>\n",
       "      <td>84.019997</td>\n",
       "      <td>936.000000</td>\n",
       "      <td>1480.000000</td>\n",
       "    </tr>\n",
       "    <tr>\n",
       "      <th>50%</th>\n",
       "      <td>1.000000</td>\n",
       "      <td>134.000000</td>\n",
       "      <td>1.000000</td>\n",
       "      <td>65.000000</td>\n",
       "      <td>5293.000000</td>\n",
       "      <td>26.639999</td>\n",
       "      <td>61600.000000</td>\n",
       "      <td>108.879997</td>\n",
       "      <td>1416.000000</td>\n",
       "      <td>2084.000000</td>\n",
       "    </tr>\n",
       "    <tr>\n",
       "      <th>75%</th>\n",
       "      <td>1.000000</td>\n",
       "      <td>203.000000</td>\n",
       "      <td>2.000000</td>\n",
       "      <td>102.000000</td>\n",
       "      <td>7323.000000</td>\n",
       "      <td>47.400002</td>\n",
       "      <td>63300.000000</td>\n",
       "      <td>134.199997</td>\n",
       "      <td>2014.000000</td>\n",
       "      <td>2721.000000</td>\n",
       "    </tr>\n",
       "    <tr>\n",
       "      <th>max</th>\n",
       "      <td>1.000000</td>\n",
       "      <td>43448.000000</td>\n",
       "      <td>4.000000</td>\n",
       "      <td>147417.000000</td>\n",
       "      <td>16628.000000</td>\n",
       "      <td>100.000000</td>\n",
       "      <td>68100.000000</td>\n",
       "      <td>333.570007</td>\n",
       "      <td>4838.000000</td>\n",
       "      <td>5690.000000</td>\n",
       "    </tr>\n",
       "  </tbody>\n",
       "</table>\n",
       "</div>"
      ],
      "text/plain": [
       "        app_accepted  loan_amount_000s  applicant_sex  applicant_income_000s  \\\n",
       "count  148996.000000     148996.000000  148996.000000          135141.000000   \n",
       "mean        0.559230        164.155742       1.523229              90.640857   \n",
       "std         0.496481        374.476442       0.765829             502.567417   \n",
       "min         0.000000          1.000000       1.000000               1.000000   \n",
       "25%         0.000000         75.000000       1.000000              43.000000   \n",
       "50%         1.000000        134.000000       1.000000              65.000000   \n",
       "75%         1.000000        203.000000       2.000000             102.000000   \n",
       "max         1.000000      43448.000000       4.000000          147417.000000   \n",
       "\n",
       "          population  minority_population  hud_median_family_income  \\\n",
       "count  145715.000000        145715.000000             145715.000000   \n",
       "mean     5790.106701            33.987342              59589.701815   \n",
       "std      2860.910917            24.677483               6779.225197   \n",
       "min         0.000000             0.000000              47200.000000   \n",
       "25%      3689.000000            15.470000              53700.000000   \n",
       "50%      5293.000000            26.639999              61600.000000   \n",
       "75%      7323.000000            47.400002              63300.000000   \n",
       "max     16628.000000           100.000000              68100.000000   \n",
       "\n",
       "       tract_to_msamd_income  number_of_owner_occupied_units  \\\n",
       "count          145715.000000                   145715.000000   \n",
       "mean              112.088414                     1562.809525   \n",
       "std                39.329715                      897.877141   \n",
       "min                 0.000000                        0.000000   \n",
       "25%                84.019997                      936.000000   \n",
       "50%               108.879997                     1416.000000   \n",
       "75%               134.199997                     2014.000000   \n",
       "max               333.570007                     4838.000000   \n",
       "\n",
       "       number_of_1_to_4_family_units  \n",
       "count                  145715.000000  \n",
       "mean                     2202.367615  \n",
       "std                      1010.090677  \n",
       "min                         0.000000  \n",
       "25%                      1480.000000  \n",
       "50%                      2084.000000  \n",
       "75%                      2721.000000  \n",
       "max                      5690.000000  "
      ]
     },
     "execution_count": 14,
     "metadata": {},
     "output_type": "execute_result"
    }
   ],
   "source": [
    "loans_df.describe()"
   ]
  },
  {
   "cell_type": "code",
   "execution_count": null,
   "metadata": {},
   "outputs": [],
   "source": []
  },
  {
   "cell_type": "code",
   "execution_count": 15,
   "metadata": {},
   "outputs": [],
   "source": [
    "#loops through all the census numeric columns to replace NaN or missing values\n",
    "for col in loans_df.columns[23:29]:\n",
    "    no_na = loans_df[col].dropna() #an intermediary variable so that the median function can be called and used to replace missing values\n",
    "    loans_df[col].fillna(np.median(no_na),inplace=True)"
   ]
  },
  {
   "cell_type": "code",
   "execution_count": 16,
   "metadata": {},
   "outputs": [],
   "source": [
    "#loops through the secondary race fields and enters 'Not applicable' where the loan applicant didn't provide a second race\n",
    "for col in loans_df.columns[13:16]:\n",
    "    loans_df[col].fillna('Not applicable',inplace=True)"
   ]
  },
  {
   "cell_type": "code",
   "execution_count": 17,
   "metadata": {},
   "outputs": [],
   "source": [
    "# replaces empty values in applicant_income_000s\n",
    "loans_df['applicant_income_000s'].fillna(value=np.median(loans_df.applicant_income_000s.dropna()),inplace=True)"
   ]
  },
  {
   "cell_type": "code",
   "execution_count": 18,
   "metadata": {},
   "outputs": [],
   "source": [
    "# dropping respondent_id; it is unneeded.\n",
    "loans_df.drop('respondent_id',axis=1,inplace=True)"
   ]
  },
  {
   "cell_type": "code",
   "execution_count": 19,
   "metadata": {},
   "outputs": [],
   "source": [
    "# dropping agency_name; duplicative\n",
    "loans_df.drop('agency_name',axis=1,inplace=True)"
   ]
  },
  {
   "cell_type": "code",
   "execution_count": 20,
   "metadata": {},
   "outputs": [],
   "source": [
    "# puts names of all object variables into a list\n",
    "obj_list = []\n",
    "for col in loans_df.columns:\n",
    "    if loans_df[col].dtypes=='object':\n",
    "        obj_list.append(col)"
   ]
  },
  {
   "cell_type": "code",
   "execution_count": 21,
   "metadata": {},
   "outputs": [],
   "source": [
    "# uses obj_list to get dummy vars\n",
    "loans_df = pd.get_dummies(loans_df,columns=obj_list,drop_first=True)"
   ]
  },
  {
   "cell_type": "code",
   "execution_count": 22,
   "metadata": {},
   "outputs": [],
   "source": [
    "# code to split data into training and testing\n",
    "x_train, x_test, y_train, y_test = train_test_split(loans_df[loans_df.columns[1:]],loans_df.app_accepted,test_size=0.2,random_state=9,stratify=loans_df.app_accepted)"
   ]
  },
  {
   "cell_type": "code",
   "execution_count": 23,
   "metadata": {},
   "outputs": [],
   "source": [
    "# initializing and fitting decision tree\n",
    "clf = tree.DecisionTreeClassifier(max_depth=9)\n",
    "clf = clf.fit(X=x_train.values,y=y_train.values)"
   ]
  },
  {
   "cell_type": "code",
   "execution_count": 24,
   "metadata": {},
   "outputs": [
    {
     "data": {
      "text/plain": [
       "0.8790060069129837"
      ]
     },
     "execution_count": 24,
     "metadata": {},
     "output_type": "execute_result"
    }
   ],
   "source": [
    "# scoring training data\n",
    "clf.score(x_train,y_train)"
   ]
  },
  {
   "cell_type": "code",
   "execution_count": 25,
   "metadata": {},
   "outputs": [
    {
     "data": {
      "text/plain": [
       "0.8773489932885906"
      ]
     },
     "execution_count": 25,
     "metadata": {},
     "output_type": "execute_result"
    }
   ],
   "source": [
    "# scoring testing data\n",
    "clf.score(x_test,y_test)"
   ]
  },
  {
   "cell_type": "code",
   "execution_count": 26,
   "metadata": {},
   "outputs": [
    {
     "data": {
      "text/plain": [
       "True"
      ]
     },
     "execution_count": 26,
     "metadata": {},
     "output_type": "execute_result"
    }
   ],
   "source": [
    "# checking for validation\n",
    "abs(clf.score(x_train,y_train) - clf.score(x_test,y_test)) < 0.03"
   ]
  },
  {
   "cell_type": "code",
   "execution_count": 22,
   "metadata": {},
   "outputs": [
    {
     "data": {
      "text/plain": [
       "0.5592297779806169"
      ]
     },
     "execution_count": 22,
     "metadata": {},
     "output_type": "execute_result"
    }
   ],
   "source": [
    "# returns naive rule\n",
    "83323/(83323+65673)"
   ]
  },
  {
   "cell_type": "code",
   "execution_count": 23,
   "metadata": {},
   "outputs": [
    {
     "data": {
      "image/png": "[encoded data removed]",
      "text/plain": [
       "<Figure size 432x288 with 1 Axes>"
      ]
     },
     "metadata": {},
     "output_type": "display_data"
    }
   ],
   "source": [
    "# checks various depths of decision tree model\n",
    "\n",
    "dep = np.arange(1, 15)\n",
    "train_accuracy = np.empty(len(dep))\n",
    "test_accuracy = np.empty(len(dep))\n",
    "\n",
    "for i,k in enumerate(dep):\n",
    "    clf2 = tree.DecisionTreeClassifier(max_depth=k)\n",
    "    \n",
    "    clf2.fit(x_train,y_train)\n",
    "    \n",
    "    train_accuracy[i] = clf2.score(x_train, y_train)\n",
    "\n",
    "    #Compute accuracy on the testing set\n",
    "    test_accuracy[i] = clf2.score(x_test, y_test)\n",
    "\n",
    "# Generate plot\n",
    "plt.title('clf: Varying depth of tree')\n",
    "plt.plot(dep, test_accuracy, label = 'Testing Accuracy')\n",
    "plt.plot(dep, train_accuracy, label = 'Training Accuracy')\n",
    "plt.legend()\n",
    "plt.xlabel('Depth of tree')\n",
    "plt.ylabel('Accuracy')\n",
    "plt.show()"
   ]
  },
  {
   "cell_type": "code",
   "execution_count": 75,
   "metadata": {
    "collapsed": true
   },
   "outputs": [
    {
     "ename": "KeyboardInterrupt",
     "evalue": "",
     "output_type": "error",
     "traceback": [
      "\u001b[1;31m---------------------------------------------------------------------------\u001b[0m",
      "\u001b[1;31mKeyboardInterrupt\u001b[0m                         Traceback (most recent call last)",
      "\u001b[1;32m<ipython-input-75-bc37c5e67e43>\u001b[0m in \u001b[0;36m<module>\u001b[1;34m\u001b[0m\n\u001b[0;32m      1\u001b[0m \u001b[0mrf_model\u001b[0m \u001b[1;33m=\u001b[0m \u001b[0mRandomForestRegressor\u001b[0m\u001b[1;33m(\u001b[0m\u001b[0mn_estimators\u001b[0m\u001b[1;33m=\u001b[0m\u001b[1;36m100\u001b[0m\u001b[1;33m,\u001b[0m \u001b[0mmax_depth\u001b[0m\u001b[1;33m=\u001b[0m\u001b[1;36m15\u001b[0m\u001b[1;33m,\u001b[0m\u001b[0mbootstrap\u001b[0m\u001b[1;33m=\u001b[0m\u001b[1;32mTrue\u001b[0m\u001b[1;33m)\u001b[0m\u001b[1;33m\u001b[0m\u001b[1;33m\u001b[0m\u001b[0m\n\u001b[1;32m----> 2\u001b[1;33m \u001b[0mrf_model\u001b[0m\u001b[1;33m.\u001b[0m\u001b[0mfit\u001b[0m\u001b[1;33m(\u001b[0m\u001b[0mx_train\u001b[0m\u001b[1;33m.\u001b[0m\u001b[0mvalues\u001b[0m\u001b[1;33m,\u001b[0m\u001b[0my_train\u001b[0m\u001b[1;33m.\u001b[0m\u001b[0mvalues\u001b[0m\u001b[1;33m)\u001b[0m\u001b[1;33m\u001b[0m\u001b[1;33m\u001b[0m\u001b[0m\n\u001b[0m",
      "\u001b[1;32m~\\anaconda3\\lib\\site-packages\\sklearn\\ensemble\\_forest.py\u001b[0m in \u001b[0;36mfit\u001b[1;34m(self, X, y, sample_weight)\u001b[0m\n\u001b[0;32m    381\u001b[0m                     \u001b[0mverbose\u001b[0m\u001b[1;33m=\u001b[0m\u001b[0mself\u001b[0m\u001b[1;33m.\u001b[0m\u001b[0mverbose\u001b[0m\u001b[1;33m,\u001b[0m \u001b[0mclass_weight\u001b[0m\u001b[1;33m=\u001b[0m\u001b[0mself\u001b[0m\u001b[1;33m.\u001b[0m\u001b[0mclass_weight\u001b[0m\u001b[1;33m,\u001b[0m\u001b[1;33m\u001b[0m\u001b[1;33m\u001b[0m\u001b[0m\n\u001b[0;32m    382\u001b[0m                     n_samples_bootstrap=n_samples_bootstrap)\n\u001b[1;32m--> 383\u001b[1;33m                 for i, t in enumerate(trees))\n\u001b[0m\u001b[0;32m    384\u001b[0m \u001b[1;33m\u001b[0m\u001b[0m\n\u001b[0;32m    385\u001b[0m             \u001b[1;31m# Collect newly grown trees\u001b[0m\u001b[1;33m\u001b[0m\u001b[1;33m\u001b[0m\u001b[1;33m\u001b[0m\u001b[0m\n",
      "\u001b[1;32m~\\anaconda3\\lib\\site-packages\\joblib\\parallel.py\u001b[0m in \u001b[0;36m__call__\u001b[1;34m(self, iterable)\u001b[0m\n\u001b[0;32m   1005\u001b[0m                 \u001b[0mself\u001b[0m\u001b[1;33m.\u001b[0m\u001b[0m_iterating\u001b[0m \u001b[1;33m=\u001b[0m \u001b[0mself\u001b[0m\u001b[1;33m.\u001b[0m\u001b[0m_original_iterator\u001b[0m \u001b[1;32mis\u001b[0m \u001b[1;32mnot\u001b[0m \u001b[1;32mNone\u001b[0m\u001b[1;33m\u001b[0m\u001b[1;33m\u001b[0m\u001b[0m\n\u001b[0;32m   1006\u001b[0m \u001b[1;33m\u001b[0m\u001b[0m\n\u001b[1;32m-> 1007\u001b[1;33m             \u001b[1;32mwhile\u001b[0m \u001b[0mself\u001b[0m\u001b[1;33m.\u001b[0m\u001b[0mdispatch_one_batch\u001b[0m\u001b[1;33m(\u001b[0m\u001b[0miterator\u001b[0m\u001b[1;33m)\u001b[0m\u001b[1;33m:\u001b[0m\u001b[1;33m\u001b[0m\u001b[1;33m\u001b[0m\u001b[0m\n\u001b[0m\u001b[0;32m   1008\u001b[0m                 \u001b[1;32mpass\u001b[0m\u001b[1;33m\u001b[0m\u001b[1;33m\u001b[0m\u001b[0m\n\u001b[0;32m   1009\u001b[0m \u001b[1;33m\u001b[0m\u001b[0m\n",
      "\u001b[1;32m~\\anaconda3\\lib\\site-packages\\joblib\\parallel.py\u001b[0m in \u001b[0;36mdispatch_one_batch\u001b[1;34m(self, iterator)\u001b[0m\n\u001b[0;32m    833\u001b[0m                 \u001b[1;32mreturn\u001b[0m \u001b[1;32mFalse\u001b[0m\u001b[1;33m\u001b[0m\u001b[1;33m\u001b[0m\u001b[0m\n\u001b[0;32m    834\u001b[0m             \u001b[1;32melse\u001b[0m\u001b[1;33m:\u001b[0m\u001b[1;33m\u001b[0m\u001b[1;33m\u001b[0m\u001b[0m\n\u001b[1;32m--> 835\u001b[1;33m                 \u001b[0mself\u001b[0m\u001b[1;33m.\u001b[0m\u001b[0m_dispatch\u001b[0m\u001b[1;33m(\u001b[0m\u001b[0mtasks\u001b[0m\u001b[1;33m)\u001b[0m\u001b[1;33m\u001b[0m\u001b[1;33m\u001b[0m\u001b[0m\n\u001b[0m\u001b[0;32m    836\u001b[0m                 \u001b[1;32mreturn\u001b[0m \u001b[1;32mTrue\u001b[0m\u001b[1;33m\u001b[0m\u001b[1;33m\u001b[0m\u001b[0m\n\u001b[0;32m    837\u001b[0m \u001b[1;33m\u001b[0m\u001b[0m\n",
      "\u001b[1;32m~\\anaconda3\\lib\\site-packages\\joblib\\parallel.py\u001b[0m in \u001b[0;36m_dispatch\u001b[1;34m(self, batch)\u001b[0m\n\u001b[0;32m    752\u001b[0m         \u001b[1;32mwith\u001b[0m \u001b[0mself\u001b[0m\u001b[1;33m.\u001b[0m\u001b[0m_lock\u001b[0m\u001b[1;33m:\u001b[0m\u001b[1;33m\u001b[0m\u001b[1;33m\u001b[0m\u001b[0m\n\u001b[0;32m    753\u001b[0m             \u001b[0mjob_idx\u001b[0m \u001b[1;33m=\u001b[0m \u001b[0mlen\u001b[0m\u001b[1;33m(\u001b[0m\u001b[0mself\u001b[0m\u001b[1;33m.\u001b[0m\u001b[0m_jobs\u001b[0m\u001b[1;33m)\u001b[0m\u001b[1;33m\u001b[0m\u001b[1;33m\u001b[0m\u001b[0m\n\u001b[1;32m--> 754\u001b[1;33m             \u001b[0mjob\u001b[0m \u001b[1;33m=\u001b[0m \u001b[0mself\u001b[0m\u001b[1;33m.\u001b[0m\u001b[0m_backend\u001b[0m\u001b[1;33m.\u001b[0m\u001b[0mapply_async\u001b[0m\u001b[1;33m(\u001b[0m\u001b[0mbatch\u001b[0m\u001b[1;33m,\u001b[0m \u001b[0mcallback\u001b[0m\u001b[1;33m=\u001b[0m\u001b[0mcb\u001b[0m\u001b[1;33m)\u001b[0m\u001b[1;33m\u001b[0m\u001b[1;33m\u001b[0m\u001b[0m\n\u001b[0m\u001b[0;32m    755\u001b[0m             \u001b[1;31m# A job can complete so quickly than its callback is\u001b[0m\u001b[1;33m\u001b[0m\u001b[1;33m\u001b[0m\u001b[1;33m\u001b[0m\u001b[0m\n\u001b[0;32m    756\u001b[0m             \u001b[1;31m# called before we get here, causing self._jobs to\u001b[0m\u001b[1;33m\u001b[0m\u001b[1;33m\u001b[0m\u001b[1;33m\u001b[0m\u001b[0m\n",
      "\u001b[1;32m~\\anaconda3\\lib\\site-packages\\joblib\\_parallel_backends.py\u001b[0m in \u001b[0;36mapply_async\u001b[1;34m(self, func, callback)\u001b[0m\n\u001b[0;32m    207\u001b[0m     \u001b[1;32mdef\u001b[0m \u001b[0mapply_async\u001b[0m\u001b[1;33m(\u001b[0m\u001b[0mself\u001b[0m\u001b[1;33m,\u001b[0m \u001b[0mfunc\u001b[0m\u001b[1;33m,\u001b[0m \u001b[0mcallback\u001b[0m\u001b[1;33m=\u001b[0m\u001b[1;32mNone\u001b[0m\u001b[1;33m)\u001b[0m\u001b[1;33m:\u001b[0m\u001b[1;33m\u001b[0m\u001b[1;33m\u001b[0m\u001b[0m\n\u001b[0;32m    208\u001b[0m         \u001b[1;34m\"\"\"Schedule a func to be run\"\"\"\u001b[0m\u001b[1;33m\u001b[0m\u001b[1;33m\u001b[0m\u001b[0m\n\u001b[1;32m--> 209\u001b[1;33m         \u001b[0mresult\u001b[0m \u001b[1;33m=\u001b[0m \u001b[0mImmediateResult\u001b[0m\u001b[1;33m(\u001b[0m\u001b[0mfunc\u001b[0m\u001b[1;33m)\u001b[0m\u001b[1;33m\u001b[0m\u001b[1;33m\u001b[0m\u001b[0m\n\u001b[0m\u001b[0;32m    210\u001b[0m         \u001b[1;32mif\u001b[0m \u001b[0mcallback\u001b[0m\u001b[1;33m:\u001b[0m\u001b[1;33m\u001b[0m\u001b[1;33m\u001b[0m\u001b[0m\n\u001b[0;32m    211\u001b[0m             \u001b[0mcallback\u001b[0m\u001b[1;33m(\u001b[0m\u001b[0mresult\u001b[0m\u001b[1;33m)\u001b[0m\u001b[1;33m\u001b[0m\u001b[1;33m\u001b[0m\u001b[0m\n",
      "\u001b[1;32m~\\anaconda3\\lib\\site-packages\\joblib\\_parallel_backends.py\u001b[0m in \u001b[0;36m__init__\u001b[1;34m(self, batch)\u001b[0m\n\u001b[0;32m    588\u001b[0m         \u001b[1;31m# Don't delay the application, to avoid keeping the input\u001b[0m\u001b[1;33m\u001b[0m\u001b[1;33m\u001b[0m\u001b[1;33m\u001b[0m\u001b[0m\n\u001b[0;32m    589\u001b[0m         \u001b[1;31m# arguments in memory\u001b[0m\u001b[1;33m\u001b[0m\u001b[1;33m\u001b[0m\u001b[1;33m\u001b[0m\u001b[0m\n\u001b[1;32m--> 590\u001b[1;33m         \u001b[0mself\u001b[0m\u001b[1;33m.\u001b[0m\u001b[0mresults\u001b[0m \u001b[1;33m=\u001b[0m \u001b[0mbatch\u001b[0m\u001b[1;33m(\u001b[0m\u001b[1;33m)\u001b[0m\u001b[1;33m\u001b[0m\u001b[1;33m\u001b[0m\u001b[0m\n\u001b[0m\u001b[0;32m    591\u001b[0m \u001b[1;33m\u001b[0m\u001b[0m\n\u001b[0;32m    592\u001b[0m     \u001b[1;32mdef\u001b[0m \u001b[0mget\u001b[0m\u001b[1;33m(\u001b[0m\u001b[0mself\u001b[0m\u001b[1;33m)\u001b[0m\u001b[1;33m:\u001b[0m\u001b[1;33m\u001b[0m\u001b[1;33m\u001b[0m\u001b[0m\n",
      "\u001b[1;32m~\\anaconda3\\lib\\site-packages\\joblib\\parallel.py\u001b[0m in \u001b[0;36m__call__\u001b[1;34m(self)\u001b[0m\n\u001b[0;32m    254\u001b[0m         \u001b[1;32mwith\u001b[0m \u001b[0mparallel_backend\u001b[0m\u001b[1;33m(\u001b[0m\u001b[0mself\u001b[0m\u001b[1;33m.\u001b[0m\u001b[0m_backend\u001b[0m\u001b[1;33m,\u001b[0m \u001b[0mn_jobs\u001b[0m\u001b[1;33m=\u001b[0m\u001b[0mself\u001b[0m\u001b[1;33m.\u001b[0m\u001b[0m_n_jobs\u001b[0m\u001b[1;33m)\u001b[0m\u001b[1;33m:\u001b[0m\u001b[1;33m\u001b[0m\u001b[1;33m\u001b[0m\u001b[0m\n\u001b[0;32m    255\u001b[0m             return [func(*args, **kwargs)\n\u001b[1;32m--> 256\u001b[1;33m                     for func, args, kwargs in self.items]\n\u001b[0m\u001b[0;32m    257\u001b[0m \u001b[1;33m\u001b[0m\u001b[0m\n\u001b[0;32m    258\u001b[0m     \u001b[1;32mdef\u001b[0m \u001b[0m__len__\u001b[0m\u001b[1;33m(\u001b[0m\u001b[0mself\u001b[0m\u001b[1;33m)\u001b[0m\u001b[1;33m:\u001b[0m\u001b[1;33m\u001b[0m\u001b[1;33m\u001b[0m\u001b[0m\n",
      "\u001b[1;32m~\\anaconda3\\lib\\site-packages\\joblib\\parallel.py\u001b[0m in \u001b[0;36m<listcomp>\u001b[1;34m(.0)\u001b[0m\n\u001b[0;32m    254\u001b[0m         \u001b[1;32mwith\u001b[0m \u001b[0mparallel_backend\u001b[0m\u001b[1;33m(\u001b[0m\u001b[0mself\u001b[0m\u001b[1;33m.\u001b[0m\u001b[0m_backend\u001b[0m\u001b[1;33m,\u001b[0m \u001b[0mn_jobs\u001b[0m\u001b[1;33m=\u001b[0m\u001b[0mself\u001b[0m\u001b[1;33m.\u001b[0m\u001b[0m_n_jobs\u001b[0m\u001b[1;33m)\u001b[0m\u001b[1;33m:\u001b[0m\u001b[1;33m\u001b[0m\u001b[1;33m\u001b[0m\u001b[0m\n\u001b[0;32m    255\u001b[0m             return [func(*args, **kwargs)\n\u001b[1;32m--> 256\u001b[1;33m                     for func, args, kwargs in self.items]\n\u001b[0m\u001b[0;32m    257\u001b[0m \u001b[1;33m\u001b[0m\u001b[0m\n\u001b[0;32m    258\u001b[0m     \u001b[1;32mdef\u001b[0m \u001b[0m__len__\u001b[0m\u001b[1;33m(\u001b[0m\u001b[0mself\u001b[0m\u001b[1;33m)\u001b[0m\u001b[1;33m:\u001b[0m\u001b[1;33m\u001b[0m\u001b[1;33m\u001b[0m\u001b[0m\n",
      "\u001b[1;32m~\\anaconda3\\lib\\site-packages\\sklearn\\ensemble\\_forest.py\u001b[0m in \u001b[0;36m_parallel_build_trees\u001b[1;34m(tree, forest, X, y, sample_weight, tree_idx, n_trees, verbose, class_weight, n_samples_bootstrap)\u001b[0m\n\u001b[0;32m    163\u001b[0m             \u001b[0mcurr_sample_weight\u001b[0m \u001b[1;33m*=\u001b[0m \u001b[0mcompute_sample_weight\u001b[0m\u001b[1;33m(\u001b[0m\u001b[1;34m'balanced'\u001b[0m\u001b[1;33m,\u001b[0m \u001b[0my\u001b[0m\u001b[1;33m,\u001b[0m \u001b[0mindices\u001b[0m\u001b[1;33m)\u001b[0m\u001b[1;33m\u001b[0m\u001b[1;33m\u001b[0m\u001b[0m\n\u001b[0;32m    164\u001b[0m \u001b[1;33m\u001b[0m\u001b[0m\n\u001b[1;32m--> 165\u001b[1;33m         \u001b[0mtree\u001b[0m\u001b[1;33m.\u001b[0m\u001b[0mfit\u001b[0m\u001b[1;33m(\u001b[0m\u001b[0mX\u001b[0m\u001b[1;33m,\u001b[0m \u001b[0my\u001b[0m\u001b[1;33m,\u001b[0m \u001b[0msample_weight\u001b[0m\u001b[1;33m=\u001b[0m\u001b[0mcurr_sample_weight\u001b[0m\u001b[1;33m,\u001b[0m \u001b[0mcheck_input\u001b[0m\u001b[1;33m=\u001b[0m\u001b[1;32mFalse\u001b[0m\u001b[1;33m)\u001b[0m\u001b[1;33m\u001b[0m\u001b[1;33m\u001b[0m\u001b[0m\n\u001b[0m\u001b[0;32m    166\u001b[0m     \u001b[1;32melse\u001b[0m\u001b[1;33m:\u001b[0m\u001b[1;33m\u001b[0m\u001b[1;33m\u001b[0m\u001b[0m\n\u001b[0;32m    167\u001b[0m         \u001b[0mtree\u001b[0m\u001b[1;33m.\u001b[0m\u001b[0mfit\u001b[0m\u001b[1;33m(\u001b[0m\u001b[0mX\u001b[0m\u001b[1;33m,\u001b[0m \u001b[0my\u001b[0m\u001b[1;33m,\u001b[0m \u001b[0msample_weight\u001b[0m\u001b[1;33m=\u001b[0m\u001b[0msample_weight\u001b[0m\u001b[1;33m,\u001b[0m \u001b[0mcheck_input\u001b[0m\u001b[1;33m=\u001b[0m\u001b[1;32mFalse\u001b[0m\u001b[1;33m)\u001b[0m\u001b[1;33m\u001b[0m\u001b[1;33m\u001b[0m\u001b[0m\n",
      "\u001b[1;32m~\\anaconda3\\lib\\site-packages\\sklearn\\tree\\_classes.py\u001b[0m in \u001b[0;36mfit\u001b[1;34m(self, X, y, sample_weight, check_input, X_idx_sorted)\u001b[0m\n\u001b[0;32m   1223\u001b[0m             \u001b[0msample_weight\u001b[0m\u001b[1;33m=\u001b[0m\u001b[0msample_weight\u001b[0m\u001b[1;33m,\u001b[0m\u001b[1;33m\u001b[0m\u001b[1;33m\u001b[0m\u001b[0m\n\u001b[0;32m   1224\u001b[0m             \u001b[0mcheck_input\u001b[0m\u001b[1;33m=\u001b[0m\u001b[0mcheck_input\u001b[0m\u001b[1;33m,\u001b[0m\u001b[1;33m\u001b[0m\u001b[1;33m\u001b[0m\u001b[0m\n\u001b[1;32m-> 1225\u001b[1;33m             X_idx_sorted=X_idx_sorted)\n\u001b[0m\u001b[0;32m   1226\u001b[0m         \u001b[1;32mreturn\u001b[0m \u001b[0mself\u001b[0m\u001b[1;33m\u001b[0m\u001b[1;33m\u001b[0m\u001b[0m\n\u001b[0;32m   1227\u001b[0m \u001b[1;33m\u001b[0m\u001b[0m\n",
      "\u001b[1;32m~\\anaconda3\\lib\\site-packages\\sklearn\\tree\\_classes.py\u001b[0m in \u001b[0;36mfit\u001b[1;34m(self, X, y, sample_weight, check_input, X_idx_sorted)\u001b[0m\n\u001b[0;32m    365\u001b[0m                                            min_impurity_split)\n\u001b[0;32m    366\u001b[0m \u001b[1;33m\u001b[0m\u001b[0m\n\u001b[1;32m--> 367\u001b[1;33m         \u001b[0mbuilder\u001b[0m\u001b[1;33m.\u001b[0m\u001b[0mbuild\u001b[0m\u001b[1;33m(\u001b[0m\u001b[0mself\u001b[0m\u001b[1;33m.\u001b[0m\u001b[0mtree_\u001b[0m\u001b[1;33m,\u001b[0m \u001b[0mX\u001b[0m\u001b[1;33m,\u001b[0m \u001b[0my\u001b[0m\u001b[1;33m,\u001b[0m \u001b[0msample_weight\u001b[0m\u001b[1;33m,\u001b[0m \u001b[0mX_idx_sorted\u001b[0m\u001b[1;33m)\u001b[0m\u001b[1;33m\u001b[0m\u001b[1;33m\u001b[0m\u001b[0m\n\u001b[0m\u001b[0;32m    368\u001b[0m \u001b[1;33m\u001b[0m\u001b[0m\n\u001b[0;32m    369\u001b[0m         \u001b[1;32mif\u001b[0m \u001b[0mself\u001b[0m\u001b[1;33m.\u001b[0m\u001b[0mn_outputs_\u001b[0m \u001b[1;33m==\u001b[0m \u001b[1;36m1\u001b[0m \u001b[1;32mand\u001b[0m \u001b[0mis_classifier\u001b[0m\u001b[1;33m(\u001b[0m\u001b[0mself\u001b[0m\u001b[1;33m)\u001b[0m\u001b[1;33m:\u001b[0m\u001b[1;33m\u001b[0m\u001b[1;33m\u001b[0m\u001b[0m\n",
      "\u001b[1;31mKeyboardInterrupt\u001b[0m: "
     ]
    }
   ],
   "source": [
    "rf_model = RandomForestRegressor(n_estimators=100, max_depth=15,bootstrap=True)\n",
    "rf_model.fit(x_train.values,y_train.values)"
   ]
  },
  {
   "cell_type": "code",
   "execution_count": 68,
   "metadata": {},
   "outputs": [
    {
     "data": {
      "text/plain": [
       "0.7635975749487633"
      ]
     },
     "execution_count": 68,
     "metadata": {},
     "output_type": "execute_result"
    }
   ],
   "source": [
    "rf_model.score(x_train.values,y_train.values)"
   ]
  },
  {
   "cell_type": "code",
   "execution_count": 46,
   "metadata": {},
   "outputs": [],
   "source": [
    "y_pred = rf_model.predict(x_test.values)"
   ]
  },
  {
   "cell_type": "code",
   "execution_count": 69,
   "metadata": {},
   "outputs": [
    {
     "data": {
      "text/plain": [
       "0.6753793037465806"
      ]
     },
     "execution_count": 69,
     "metadata": {},
     "output_type": "execute_result"
    }
   ],
   "source": [
    "rf_model.score(x_test.values,y_test.values)"
   ]
  },
  {
   "cell_type": "code",
   "execution_count": 47,
   "metadata": {},
   "outputs": [
    {
     "data": {
      "text/plain": [
       "0.08320554993281158"
      ]
     },
     "execution_count": 47,
     "metadata": {},
     "output_type": "execute_result"
    }
   ],
   "source": [
    "mean_squared_error(y_test,y_pred)"
   ]
  },
  {
   "cell_type": "code",
   "execution_count": 48,
   "metadata": {},
   "outputs": [
    {
     "data": {
      "text/plain": [
       "0.662441204627502"
      ]
     },
     "execution_count": 48,
     "metadata": {},
     "output_type": "execute_result"
    }
   ],
   "source": [
    "r2_score(y_test,y_pred)"
   ]
  },
  {
   "cell_type": "code",
   "execution_count": 63,
   "metadata": {},
   "outputs": [],
   "source": [
    "def plot_confusion_matrix(cm, classes, normalize=False,title='Confusion matrix', cmap=plt.cm.Blues):\n",
    "    plt.imshow(cm, interpolation='nearest', cmap=cmap)\n",
    "    plt.title(title)\n",
    "    plt.colorbar()\n",
    "    tick_marks = np.arange(len(classes))\n",
    "    plt.xticks(tick_marks, classes, rotation=45)\n",
    "    plt.yticks(tick_marks, classes)\n",
    "    plt.grid(None)\n",
    "    if normalize:\n",
    "        cm = cm.astype('float') / cm.sum(axis=1)[:, np.newaxis]\n",
    "        print(\"Normalized confusion matrix\")\n",
    "    else:\n",
    "        print('Confusion matrix, without normalization')\n",
    "    thresh = cm.max() / 2.\n",
    "    plt.tight_layout()\n",
    "    plt.ylabel('True label')\n",
    "    plt.xlabel('Predicted label')"
   ]
  },
  {
   "cell_type": "code",
   "execution_count": 65,
   "metadata": {},
   "outputs": [
    {
     "name": "stdout",
     "output_type": "stream",
     "text": [
      "Confusion matrix, without normalization\n"
     ]
    },
    {
     "data": {
      "image/png": "[encoded data removed]",
      "text/plain": [
       "<Figure size 432x288 with 2 Axes>"
      ]
     },
     "metadata": {},
     "output_type": "display_data"
    }
   ],
   "source": [
    "y_pred_dt = clf.predict(x_test)\n",
    "cm=metrics.confusion_matrix(y_test,y_pred_dt)\n",
    "\n",
    "plot_confusion_matrix(cm,classes=['Denied','Accepted'])"
   ]
  },
  {
   "cell_type": "code",
   "execution_count": 76,
   "metadata": {
    "collapsed": true
   },
   "outputs": [
    {
     "name": "stdout",
     "output_type": "stream",
     "text": [
      "<class 'pandas.core.frame.DataFrame'>\n",
      "RangeIndex: 148996 entries, 0 to 148995\n",
      "Data columns (total 75 columns):\n",
      " #   Column                                                                                                         Non-Null Count   Dtype  \n",
      "---  ------                                                                                                         --------------   -----  \n",
      " 0   app_accepted                                                                                                   148996 non-null  int64  \n",
      " 1   loan_amount_000s                                                                                               148996 non-null  int64  \n",
      " 2   applicant_sex                                                                                                  148996 non-null  int64  \n",
      " 3   applicant_income_000s                                                                                          148996 non-null  float64\n",
      " 4   population                                                                                                     148996 non-null  float64\n",
      " 5   minority_population                                                                                            148996 non-null  float64\n",
      " 6   hud_median_family_income                                                                                       148996 non-null  float64\n",
      " 7   tract_to_msamd_income                                                                                          148996 non-null  float64\n",
      " 8   number_of_owner_occupied_units                                                                                 148996 non-null  float64\n",
      " 9   number_of_1_to_4_family_units                                                                                  148996 non-null  float64\n",
      " 10  agency_abbr_FDIC                                                                                               148996 non-null  uint8  \n",
      " 11  agency_abbr_FRS                                                                                                148996 non-null  uint8  \n",
      " 12  agency_abbr_HUD                                                                                                148996 non-null  uint8  \n",
      " 13  agency_abbr_NCUA                                                                                               148996 non-null  uint8  \n",
      " 14  agency_abbr_OCC                                                                                                148996 non-null  uint8  \n",
      " 15  loan_type_name_FHA-insured                                                                                     148996 non-null  uint8  \n",
      " 16  loan_type_name_FSA/RHS-guaranteed                                                                              148996 non-null  uint8  \n",
      " 17  loan_type_name_VA-guaranteed                                                                                   148996 non-null  uint8  \n",
      " 18  property_type_name_Multifamily dwelling                                                                        148996 non-null  uint8  \n",
      " 19  property_type_name_One-to-four family dwelling (other than manufactured housing)                               148996 non-null  uint8  \n",
      " 20  loan_purpose_name_Home purchase                                                                                148996 non-null  uint8  \n",
      " 21  loan_purpose_name_Refinancing                                                                                  148996 non-null  uint8  \n",
      " 22  owner_occupancy_name_Not owner-occupied as a principal dwelling                                                148996 non-null  uint8  \n",
      " 23  owner_occupancy_name_Owner-occupied as a principal dwelling                                                    148996 non-null  uint8  \n",
      " 24  preapproval_name_Preapproval was not requested                                                                 148996 non-null  uint8  \n",
      " 25  preapproval_name_Preapproval was requested                                                                     148996 non-null  uint8  \n",
      " 26  applicant_ethnicity_name_Information not provided by applicant in mail, Internet, or telephone application     148996 non-null  uint8  \n",
      " 27  applicant_ethnicity_name_Not Hispanic or Latino                                                                148996 non-null  uint8  \n",
      " 28  applicant_ethnicity_name_Not applicable                                                                        148996 non-null  uint8  \n",
      " 29  co_applicant_ethnicity_name_Information not provided by applicant in mail, Internet, or telephone application  148996 non-null  uint8  \n",
      " 30  co_applicant_ethnicity_name_No co-applicant                                                                    148996 non-null  uint8  \n",
      " 31  co_applicant_ethnicity_name_Not Hispanic or Latino                                                             148996 non-null  uint8  \n",
      " 32  co_applicant_ethnicity_name_Not applicable                                                                     148996 non-null  uint8  \n",
      " 33  applicant_race_name_1_Asian                                                                                    148996 non-null  uint8  \n",
      " 34  applicant_race_name_1_Black or African American                                                                148996 non-null  uint8  \n",
      " 35  applicant_race_name_1_Information not provided by applicant in mail, Internet, or telephone application        148996 non-null  uint8  \n",
      " 36  applicant_race_name_1_Native Hawaiian or Other Pacific Islander                                                148996 non-null  uint8  \n",
      " 37  applicant_race_name_1_Not applicable                                                                           148996 non-null  uint8  \n",
      " 38  applicant_race_name_1_White                                                                                    148996 non-null  uint8  \n",
      " 39  applicant_race_name_2_Asian                                                                                    148996 non-null  uint8  \n",
      " 40  applicant_race_name_2_Black or African American                                                                148996 non-null  uint8  \n",
      " 41  applicant_race_name_2_Native Hawaiian or Other Pacific Islander                                                148996 non-null  uint8  \n",
      " 42  applicant_race_name_2_Not applicable                                                                           148996 non-null  uint8  \n",
      " 43  applicant_race_name_2_White                                                                                    148996 non-null  uint8  \n",
      " 44  co_applicant_race_name_1_Asian                                                                                 148996 non-null  uint8  \n",
      " 45  co_applicant_race_name_1_Black or African American                                                             148996 non-null  uint8  \n",
      " 46  co_applicant_race_name_1_Information not provided by applicant in mail, Internet, or telephone application     148996 non-null  uint8  \n",
      " 47  co_applicant_race_name_1_Native Hawaiian or Other Pacific Islander                                             148996 non-null  uint8  \n",
      " 48  co_applicant_race_name_1_No co-applicant                                                                       148996 non-null  uint8  \n",
      " 49  co_applicant_race_name_1_Not applicable                                                                        148996 non-null  uint8  \n",
      " 50  co_applicant_race_name_1_White                                                                                 148996 non-null  uint8  \n",
      " 51  co_applicant_race_name_2_Asian                                                                                 148996 non-null  uint8  \n",
      " 52  co_applicant_race_name_2_Black or African American                                                             148996 non-null  uint8  \n",
      " 53  co_applicant_race_name_2_Native Hawaiian or Other Pacific Islander                                             148996 non-null  uint8  \n",
      " 54  co_applicant_race_name_2_Not applicable                                                                        148996 non-null  uint8  \n",
      " 55  co_applicant_race_name_2_White                                                                                 148996 non-null  uint8  \n",
      " 56  applicant_sex_name_Information not provided by applicant in mail, Internet, or telephone application           148996 non-null  uint8  \n",
      " 57  applicant_sex_name_Male                                                                                        148996 non-null  uint8  \n",
      " 58  applicant_sex_name_Not applicable                                                                              148996 non-null  uint8  \n",
      " 59  co_applicant_sex_name_Information not provided by applicant in mail, Internet, or telephone application        148996 non-null  uint8  \n",
      " 60  co_applicant_sex_name_Male                                                                                     148996 non-null  uint8  \n",
      " 61  co_applicant_sex_name_No co-applicant                                                                          148996 non-null  uint8  \n",
      " 62  co_applicant_sex_name_Not applicable                                                                           148996 non-null  uint8  \n",
      " 63  purchaser_type_name_Commercial bank, savings bank or savings association                                       148996 non-null  uint8  \n",
      " 64  purchaser_type_name_Fannie Mae (FNMA)                                                                          148996 non-null  uint8  \n",
      " 65  purchaser_type_name_Farmer Mac (FAMC)                                                                          148996 non-null  uint8  \n",
      " 66  purchaser_type_name_Freddie Mac (FHLMC)                                                                        148996 non-null  uint8  \n",
      " 67  purchaser_type_name_Ginnie Mae (GNMA)                                                                          148996 non-null  uint8  \n",
      " 68  purchaser_type_name_Life insurance company, credit union, mortgage bank, or finance company                    148996 non-null  uint8  \n",
      " 69  purchaser_type_name_Loan was not originated or was not sold in calendar year covered by register               148996 non-null  uint8  \n",
      " 70  purchaser_type_name_Other type of purchaser                                                                    148996 non-null  uint8  \n",
      " 71  purchaser_type_name_Private securitization                                                                     148996 non-null  uint8  \n",
      " 72  hoepa_status_name_Not a HOEPA loan                                                                             148996 non-null  uint8  \n",
      " 73  lien_status_name_Secured by a first lien                                                                       148996 non-null  uint8  \n",
      " 74  lien_status_name_Secured by a subordinate lien                                                                 148996 non-null  uint8  \n",
      "dtypes: float64(7), int64(3), uint8(65)\n",
      "memory usage: 20.6 MB\n"
     ]
    }
   ],
   "source": [
    "loans_df.info()"
   ]
  },
  {
   "cell_type": "code",
   "execution_count": null,
   "metadata": {},
   "outputs": [],
   "source": []
  }
 ],
 "metadata": {
  "kernelspec": {
   "display_name": "Python 3",
   "language": "python",
   "name": "python3"
  }
 },
 "nbformat": 4,
 "nbformat_minor": 4
}
